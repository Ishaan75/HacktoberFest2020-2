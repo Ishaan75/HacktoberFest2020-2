{
 "cells": [
  {
   "cell_type": "markdown",
   "metadata": {},
   "source": [
    "# Tree Traversal Inorder,Preorder,Postorder\n",
    "\n",
    "<ol>\n",
    "    <li><b>Inorder</b> : LDR</li>\n",
    "    <li><b>Preorde</b> : DLR</li>\n",
    "    <li><b>Postorder</b> : LRD</li>\n",
    "</ol>"
   ]
  },
  {
   "cell_type": "code",
   "execution_count": 13,
   "metadata": {},
   "outputs": [],
   "source": [
    "class node:\n",
    "    def __init__(self,data):\n",
    "        self.left=None\n",
    "        self.right=None\n",
    "        self.data=data\n",
    "        \n",
    "    def insert(self,data):\n",
    "        if self.data:\n",
    "            if data < self.data:\n",
    "                if self.left == None:\n",
    "                    self.left = node(data)\n",
    "                else:\n",
    "                    self.left.insert(data)\n",
    "            elif data > self.data:\n",
    "                if self.right == None:\n",
    "                    self.right = node(data)\n",
    "                else:\n",
    "                    self.right.insert(data)\n",
    "            else:\n",
    "                self.data = data\n",
    "                \n",
    "    def printtree(self):\n",
    "        if self.left:\n",
    "            self.left.printtree()\n",
    "        print(self.data,end=\" \")\n",
    "        if self.right:\n",
    "            self.right.printtree()\n",
    "            \n",
    "    def inorder(self,root):\n",
    "        res = []\n",
    "        if root:\n",
    "            res = self.inorder(root.left)\n",
    "            res.append(root.data)\n",
    "            res += self.inorder(root.right)\n",
    "        return res\n",
    "    \n",
    "    def preorder(self,root):\n",
    "        res = []\n",
    "        if root:\n",
    "            res.append(root.data)\n",
    "            res += self.preorder(root.left)\n",
    "            res += self.preorder(root.right)\n",
    "        return res\n",
    "    \n",
    "    def postorder(self,root):\n",
    "        res = []\n",
    "        if root:\n",
    "            res = self.postorder(root.left)\n",
    "            res += self.postorder(root.right)\n",
    "            res.append(root.data)\n",
    "        return res"
   ]
  },
  {
   "cell_type": "code",
   "execution_count": 16,
   "metadata": {},
   "outputs": [
    {
     "name": "stdout",
     "output_type": "stream",
     "text": [
      "\n",
      " The inserted tree is: 10 14 19 27 31 35 42 \n",
      "\n",
      " The inorder of the tree is: 10 14 19 27 31 35 42 \n",
      "\n",
      " The preorder of the tree is: 27 14 10 19 35 31 42 \n",
      "\n",
      " The postorder of the tree is: 10 19 14 31 42 35 27 \n"
     ]
    }
   ],
   "source": [
    "if __name__ == \"__main__\":\n",
    "    root = node(27)\n",
    "    root.insert(14)\n",
    "    root.insert(35)\n",
    "    root.insert(10)\n",
    "    root.insert(19)\n",
    "    root.insert(31)\n",
    "    root.insert(42)\n",
    "    print(\"\\n The inserted tree is:\",end=\" \")\n",
    "    root.printtree()\n",
    "    print()\n",
    "    print(\"\\n The inorder of the tree is:\",end=\" \")\n",
    "    for i in root.inorder(root):\n",
    "        print(i,end=\" \")\n",
    "    print()\n",
    "    print(\"\\n The preorder of the tree is:\",end=\" \")\n",
    "    for i in root.preorder(root):\n",
    "        print(i,end=\" \")\n",
    "    print()\n",
    "    print(\"\\n The postorder of the tree is:\",end=\" \")\n",
    "    for i in root.postorder(root):\n",
    "        print(i,end=\" \")\n",
    "    print()\n",
    "    "
   ]
  },
  {
   "cell_type": "code",
   "execution_count": null,
   "metadata": {},
   "outputs": [],
   "source": []
  }
 ],
 "metadata": {
  "kernelspec": {
   "display_name": "Python 3",
   "language": "python",
   "name": "python3"
  },
  "language_info": {
   "codemirror_mode": {
    "name": "ipython",
    "version": 3
   },
   "file_extension": ".py",
   "mimetype": "text/x-python",
   "name": "python",
   "nbconvert_exporter": "python",
   "pygments_lexer": "ipython3",
   "version": "3.7.6"
  }
 },
 "nbformat": 4,
 "nbformat_minor": 4
}
